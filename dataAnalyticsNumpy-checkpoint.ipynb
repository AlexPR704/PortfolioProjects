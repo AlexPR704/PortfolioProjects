{
 "cells": [
  {
   "cell_type": "code",
   "execution_count": 1,
   "id": "0f66cde6",
   "metadata": {},
   "outputs": [
    {
     "name": "stdout",
     "output_type": "stream",
     "text": [
      "[1 2 3]\n"
     ]
    }
   ],
   "source": [
    "import numpy as np\n",
    "\n",
    "arr1 = np.array([1,2,3])\n",
    "\n",
    "print(arr1)"
   ]
  },
  {
   "cell_type": "code",
   "execution_count": 2,
   "id": "615e526e",
   "metadata": {},
   "outputs": [
    {
     "name": "stdout",
     "output_type": "stream",
     "text": [
      "<class 'numpy.ndarray'>\n"
     ]
    }
   ],
   "source": [
    "#Checking the type of array\n",
    "print(type(arr1))"
   ]
  },
  {
   "cell_type": "code",
   "execution_count": 3,
   "id": "20f047d2",
   "metadata": {},
   "outputs": [
    {
     "name": "stdout",
     "output_type": "stream",
     "text": [
      "(3,)\n"
     ]
    }
   ],
   "source": [
    "#Checking to see the array class\n",
    "print(arr1.shape)"
   ]
  },
  {
   "cell_type": "code",
   "execution_count": 4,
   "id": "f72ed772",
   "metadata": {},
   "outputs": [
    {
     "name": "stdout",
     "output_type": "stream",
     "text": [
      "3\n"
     ]
    }
   ],
   "source": [
    "#printing a specific position in the array and changing the value\n",
    "print(arr1[2])\n"
   ]
  },
  {
   "cell_type": "code",
   "execution_count": 5,
   "id": "031a7b4a",
   "metadata": {},
   "outputs": [
    {
     "name": "stdout",
     "output_type": "stream",
     "text": [
      "[1 2 5]\n"
     ]
    }
   ],
   "source": [
    "arr1[2]=5\n",
    "print(arr1)"
   ]
  },
  {
   "cell_type": "code",
   "execution_count": 6,
   "id": "19f54173",
   "metadata": {},
   "outputs": [
    {
     "data": {
      "text/plain": [
       "array([1, 2, 5])"
      ]
     },
     "execution_count": 6,
     "metadata": {},
     "output_type": "execute_result"
    }
   ],
   "source": [
    "arr1"
   ]
  },
  {
   "cell_type": "code",
   "execution_count": 7,
   "id": "6fde6d2a",
   "metadata": {},
   "outputs": [
    {
     "data": {
      "text/plain": [
       "array([[1, 2, 3],\n",
       "       [3, 4, 5]])"
      ]
     },
     "execution_count": 7,
     "metadata": {},
     "output_type": "execute_result"
    }
   ],
   "source": [
    "#creating a 2 dimensional array\n",
    "arr2 = np.array([[1,2,3],[3,4,5]])\n",
    "arr2"
   ]
  },
  {
   "cell_type": "code",
   "execution_count": 8,
   "id": "00d20d98",
   "metadata": {},
   "outputs": [
    {
     "data": {
      "text/plain": [
       "5"
      ]
     },
     "execution_count": 8,
     "metadata": {},
     "output_type": "execute_result"
    }
   ],
   "source": [
    "arr2[1][2]\n"
   ]
  },
  {
   "cell_type": "code",
   "execution_count": 9,
   "id": "ccc5eba1",
   "metadata": {},
   "outputs": [
    {
     "name": "stdout",
     "output_type": "stream",
     "text": [
      "(2, 3)\n"
     ]
    }
   ],
   "source": [
    "# Checking to see what I'm working with. How many rows and elements\n",
    "print(arr2.shape)"
   ]
  },
  {
   "cell_type": "code",
   "execution_count": 11,
   "id": "4b5fe3db",
   "metadata": {},
   "outputs": [
    {
     "data": {
      "text/plain": [
       "4"
      ]
     },
     "execution_count": 11,
     "metadata": {},
     "output_type": "execute_result"
    }
   ],
   "source": [
    "#counting the array backwards\n",
    "arr2[1][-2]"
   ]
  },
  {
   "cell_type": "code",
   "execution_count": 12,
   "id": "e5cdec41",
   "metadata": {},
   "outputs": [
    {
     "data": {
      "text/plain": [
       "array(['USA', 'New Zealand', 'Brazil', 'Spain'], dtype='<U11')"
      ]
     },
     "execution_count": 12,
     "metadata": {},
     "output_type": "execute_result"
    }
   ],
   "source": [
    "#Create an array that does not hold values but a string instead\n",
    "arrS = np.array(['USA', 'New Zealand', 'Brazil', 'Spain'])\n",
    "arrS"
   ]
  },
  {
   "cell_type": "code",
   "execution_count": 16,
   "id": "8a30fe93",
   "metadata": {},
   "outputs": [
    {
     "data": {
      "text/plain": [
       "array([ 0,  2,  4,  6,  8, 10, 12, 14, 16, 18, 20, 22, 24, 26, 28])"
      ]
     },
     "execution_count": 16,
     "metadata": {},
     "output_type": "execute_result"
    }
   ],
   "source": [
    "#Using the command in numpy library arange to create a range of numbers, skipping a number every other one\n",
    "\n",
    "arrR = np.arange(0,30,2)\n",
    "arrR"
   ]
  },
  {
   "cell_type": "code",
   "execution_count": 17,
   "id": "cdc39f53",
   "metadata": {},
   "outputs": [
    {
     "data": {
      "text/plain": [
       "array([ 0.        ,  0.52631579,  1.05263158,  1.57894737,  2.10526316,\n",
       "        2.63157895,  3.15789474,  3.68421053,  4.21052632,  4.73684211,\n",
       "        5.26315789,  5.78947368,  6.31578947,  6.84210526,  7.36842105,\n",
       "        7.89473684,  8.42105263,  8.94736842,  9.47368421, 10.        ])"
      ]
     },
     "execution_count": 17,
     "metadata": {},
     "output_type": "execute_result"
    }
   ],
   "source": [
    "#Create numbers from 0-10 using 20 increments with linspace\n",
    "arrL= np.linspace(0,10, 20)\n",
    "arrL"
   ]
  },
  {
   "cell_type": "code",
   "execution_count": 18,
   "id": "3a20a31b",
   "metadata": {},
   "outputs": [
    {
     "data": {
      "text/plain": [
       "array([0.03274323, 0.68481075, 0.19944037, 0.47636809, 0.96714093,\n",
       "       0.80136277, 0.62615476, 0.44483774, 0.39109063, 0.22751074])"
      ]
     },
     "execution_count": 18,
     "metadata": {},
     "output_type": "execute_result"
    }
   ],
   "source": [
    "#using random from numpy\n",
    "arrR = np.random.rand(10)\n",
    "arrR"
   ]
  },
  {
   "cell_type": "code",
   "execution_count": 19,
   "id": "72b5fef8",
   "metadata": {},
   "outputs": [
    {
     "data": {
      "text/plain": [
       "array([[0.54624376, 0.29105761, 0.2424924 , 0.32702967],\n",
       "       [0.65233492, 0.66932101, 0.50499431, 0.98612009],\n",
       "       [0.96548239, 0.95831721, 0.7299776 , 0.43967579]])"
      ]
     },
     "execution_count": 19,
     "metadata": {},
     "output_type": "execute_result"
    }
   ],
   "source": [
    "#creating multiple rows using random from numpy\n",
    "arrR = np.random.rand(3,4)\n",
    "arrR"
   ]
  },
  {
   "cell_type": "code",
   "execution_count": 20,
   "id": "d768dd18",
   "metadata": {},
   "outputs": [
    {
     "name": "stdout",
     "output_type": "stream",
     "text": [
      "[0. 0. 0. 0. 0. 0. 0. 0. 0. 0.]\n",
      "/n\n",
      "[[0. 0. 0.]\n",
      " [0. 0. 0.]]\n"
     ]
    }
   ],
   "source": [
    "#Creating an empty dataset, creating a mask over images, example if removing the background of a image\n",
    "\n",
    "print(np.zeros(10))\n",
    "print('/n')\n",
    "print(np.zeros((2,3)))"
   ]
  },
  {
   "cell_type": "code",
   "execution_count": 21,
   "id": "bfde69a9",
   "metadata": {},
   "outputs": [
    {
     "name": "stdout",
     "output_type": "stream",
     "text": [
      "[[1. 1. 1. 1. 1. 1. 1. 1. 1. 1.]\n",
      " [1. 1. 1. 1. 1. 1. 1. 1. 1. 1.]\n",
      " [1. 1. 1. 1. 1. 1. 1. 1. 1. 1.]\n",
      " [1. 1. 1. 1. 1. 1. 1. 1. 1. 1.]\n",
      " [1. 1. 1. 1. 1. 1. 1. 1. 1. 1.]\n",
      " [1. 1. 1. 1. 1. 1. 1. 1. 1. 1.]\n",
      " [1. 1. 1. 1. 1. 1. 1. 1. 1. 1.]\n",
      " [1. 1. 1. 1. 1. 1. 1. 1. 1. 1.]\n",
      " [1. 1. 1. 1. 1. 1. 1. 1. 1. 1.]\n",
      " [1. 1. 1. 1. 1. 1. 1. 1. 1. 1.]]\n"
     ]
    }
   ],
   "source": [
    "#Creating a mask of 1s and fill them in with 0s\n",
    "\n",
    "print(np.ones((10,10)))"
   ]
  },
  {
   "cell_type": "code",
   "execution_count": 22,
   "id": "ee4e025b",
   "metadata": {},
   "outputs": [
    {
     "name": "stdout",
     "output_type": "stream",
     "text": [
      "[0 0 0 1 1 1 2 2 2]\n"
     ]
    }
   ],
   "source": [
    "#create an array and repeat multiple times using repeat\n",
    "\n",
    "arr = [0, 1, 2]\n",
    "print(np.repeat(arr, 3))"
   ]
  },
  {
   "cell_type": "code",
   "execution_count": 23,
   "id": "50ce7c66",
   "metadata": {},
   "outputs": [
    {
     "name": "stdout",
     "output_type": "stream",
     "text": [
      "[0 1 2 0 1 2 0 1 2]\n"
     ]
    }
   ],
   "source": [
    "#create an array using tile command from numpy\n",
    "\n",
    "print(np.tile(arr,3))"
   ]
  },
  {
   "cell_type": "code",
   "execution_count": 24,
   "id": "6f62e003",
   "metadata": {},
   "outputs": [
    {
     "data": {
      "text/plain": [
       "array([[1., 0., 0.],\n",
       "       [0., 1., 0.],\n",
       "       [0., 0., 1.]])"
      ]
     },
     "execution_count": 24,
     "metadata": {},
     "output_type": "execute_result"
    }
   ],
   "source": [
    "#creating an identity matrix using comand eye from numpy\n",
    "\n",
    "identity_matrix = np.eye(3)\n",
    "identity_matrix"
   ]
  },
  {
   "cell_type": "code",
   "execution_count": 25,
   "id": "369fdd80",
   "metadata": {},
   "outputs": [
    {
     "data": {
      "text/plain": [
       "array([[1, 0, 0, 0, 0],\n",
       "       [0, 2, 0, 0, 0],\n",
       "       [0, 0, 3, 0, 0],\n",
       "       [0, 0, 0, 4, 0],\n",
       "       [0, 0, 0, 0, 5]])"
      ]
     },
     "execution_count": 25,
     "metadata": {},
     "output_type": "execute_result"
    }
   ],
   "source": [
    "#manipulate the matrix to not have ones down the middle\n",
    "\n",
    "np.diag([1,2,3,4,5])"
   ]
  },
  {
   "cell_type": "code",
   "execution_count": 26,
   "id": "db0da707",
   "metadata": {},
   "outputs": [
    {
     "data": {
      "text/plain": [
       "array([[0.59142383, 0.00358787, 0.87678545, 0.34404763, 0.05988013],\n",
       "       [0.35659819, 0.5040861 , 0.14366628, 0.04156612, 0.88647782],\n",
       "       [0.97816657, 0.39417514, 0.39368723, 0.8228788 , 0.79712351],\n",
       "       [0.44237168, 0.83253282, 0.83247751, 0.88429035, 0.7089386 ],\n",
       "       [0.92300072, 0.56792255, 0.54772841, 0.56668498, 0.33665695]])"
      ]
     },
     "execution_count": 26,
     "metadata": {},
     "output_type": "execute_result"
    }
   ],
   "source": [
    "#reverse creating a 5x5\n",
    "\n",
    "arr = np.random.rand(5,5)\n",
    "arr"
   ]
  },
  {
   "cell_type": "code",
   "execution_count": 27,
   "id": "b65abd34",
   "metadata": {},
   "outputs": [
    {
     "data": {
      "text/plain": [
       "array([0.59142383, 0.5040861 , 0.39368723, 0.88429035, 0.33665695])"
      ]
     },
     "execution_count": 27,
     "metadata": {},
     "output_type": "execute_result"
    }
   ],
   "source": [
    "#working with matrix, going to extract the values diag\n",
    "\n",
    "np.diag(arr)"
   ]
  },
  {
   "cell_type": "code",
   "execution_count": 29,
   "id": "1240437e",
   "metadata": {},
   "outputs": [
    {
     "data": {
      "text/plain": [
       "2"
      ]
     },
     "execution_count": 29,
     "metadata": {},
     "output_type": "execute_result"
    }
   ],
   "source": [
    "#print the dimensions and the size\n",
    "\n",
    "arr.ndim\n"
   ]
  },
  {
   "cell_type": "code",
   "execution_count": 30,
   "id": "91e759c0",
   "metadata": {},
   "outputs": [
    {
     "data": {
      "text/plain": [
       "25"
      ]
     },
     "execution_count": 30,
     "metadata": {},
     "output_type": "execute_result"
    }
   ],
   "source": [
    "arr.size"
   ]
  },
  {
   "cell_type": "code",
   "execution_count": 31,
   "id": "bcde3692",
   "metadata": {},
   "outputs": [
    {
     "data": {
      "text/plain": [
       "array([-1, -5,  1,  4])"
      ]
     },
     "execution_count": 31,
     "metadata": {},
     "output_type": "execute_result"
    }
   ],
   "source": [
    "#using random with integers, -10 to 10 only 4 \n",
    "\n",
    "np.random.randint(-10, 10, 4)"
   ]
  },
  {
   "cell_type": "code",
   "execution_count": 32,
   "id": "a780035d",
   "metadata": {},
   "outputs": [
    {
     "data": {
      "text/plain": [
       "array([[0.59142383, 0.00358787, 0.87678545, 0.34404763, 0.05988013],\n",
       "       [0.35659819, 0.5040861 , 0.14366628, 0.04156612, 0.88647782],\n",
       "       [0.97816657, 0.39417514, 0.39368723, 0.8228788 , 0.79712351],\n",
       "       [0.44237168, 0.83253282, 0.83247751, 0.88429035, 0.7089386 ],\n",
       "       [0.92300072, 0.56792255, 0.54772841, 0.56668498, 0.33665695]])"
      ]
     },
     "execution_count": 32,
     "metadata": {},
     "output_type": "execute_result"
    }
   ],
   "source": [
    "arr"
   ]
  },
  {
   "cell_type": "code",
   "execution_count": 33,
   "id": "7f83d075",
   "metadata": {},
   "outputs": [
    {
     "data": {
      "text/plain": [
       "13.836755253614763"
      ]
     },
     "execution_count": 33,
     "metadata": {},
     "output_type": "execute_result"
    }
   ],
   "source": [
    "#Summing up the values in the array with sum from np\n",
    "\n",
    "np.sum(arr)"
   ]
  },
  {
   "cell_type": "code",
   "execution_count": 34,
   "id": "b5de43f3",
   "metadata": {},
   "outputs": [
    {
     "data": {
      "text/plain": [
       "array([1.87572492, 1.93239451, 3.38603125, 3.70061095, 2.94199362])"
      ]
     },
     "execution_count": 34,
     "metadata": {},
     "output_type": "execute_result"
    }
   ],
   "source": [
    "#Summing up the row and can also do by column using the axis of 0\n",
    "\n",
    "np.sum(arr, axis=1)"
   ]
  },
  {
   "cell_type": "code",
   "execution_count": 35,
   "id": "683799e3",
   "metadata": {},
   "outputs": [
    {
     "data": {
      "text/plain": [
       "0.0035878694547805123"
      ]
     },
     "execution_count": 35,
     "metadata": {},
     "output_type": "execute_result"
    }
   ],
   "source": [
    "#using the min fucntion from np to grab the min value in the array\n",
    "\n",
    "np.min(arr)"
   ]
  },
  {
   "cell_type": "code",
   "execution_count": 36,
   "id": "d0acc81b",
   "metadata": {},
   "outputs": [
    {
     "data": {
      "text/plain": [
       "array([0.35659819, 0.00358787, 0.14366628, 0.04156612, 0.05988013])"
      ]
     },
     "execution_count": 36,
     "metadata": {},
     "output_type": "execute_result"
    }
   ],
   "source": [
    "#using min and axis to find the min value in a column\n",
    "\n",
    "np.min(arr, axis=0)"
   ]
  },
  {
   "cell_type": "code",
   "execution_count": 37,
   "id": "2f72906a",
   "metadata": {},
   "outputs": [
    {
     "data": {
      "text/plain": [
       "array([[0.59142383, 0.00358787, 0.87678545, 0.34404763, 0.05988013],\n",
       "       [0.35659819, 0.5040861 , 0.14366628, 0.04156612, 0.88647782],\n",
       "       [0.97816657, 0.39417514, 0.39368723, 0.8228788 , 0.79712351],\n",
       "       [0.44237168, 0.83253282, 0.83247751, 0.88429035, 0.7089386 ],\n",
       "       [0.92300072, 0.56792255, 0.54772841, 0.56668498, 0.33665695]])"
      ]
     },
     "execution_count": 37,
     "metadata": {},
     "output_type": "execute_result"
    }
   ],
   "source": [
    "arr"
   ]
  },
  {
   "cell_type": "code",
   "execution_count": 39,
   "id": "8b4ba013",
   "metadata": {},
   "outputs": [
    {
     "data": {
      "text/plain": [
       "0.9781665729334174"
      ]
     },
     "execution_count": 39,
     "metadata": {},
     "output_type": "execute_result"
    }
   ],
   "source": [
    "#Finding the max in the array \n",
    "\n",
    "np.max(arr)"
   ]
  },
  {
   "cell_type": "code",
   "execution_count": 40,
   "id": "a69db1a0",
   "metadata": {},
   "outputs": [
    {
     "data": {
      "text/plain": [
       "array([0.87678545, 0.88647782, 0.97816657, 0.88429035, 0.92300072])"
      ]
     },
     "execution_count": 40,
     "metadata": {},
     "output_type": "execute_result"
    }
   ],
   "source": [
    "#Using the max function from np to find the max value in the rows of the array\n",
    "\n",
    "np.max(arr, axis=1)"
   ]
  },
  {
   "cell_type": "code",
   "execution_count": 41,
   "id": "b197d2a9",
   "metadata": {},
   "outputs": [
    {
     "data": {
      "text/plain": [
       "0.5534702101445905"
      ]
     },
     "execution_count": 41,
     "metadata": {},
     "output_type": "execute_result"
    }
   ],
   "source": [
    "#using the mean function to find the mean of the array\n",
    "\n",
    "np.mean(arr)"
   ]
  },
  {
   "cell_type": "code",
   "execution_count": 42,
   "id": "f78c1a8e",
   "metadata": {},
   "outputs": [
    {
     "data": {
      "text/plain": [
       "array([0.6583122 , 0.4604609 , 0.55886898, 0.53189358, 0.5578154 ])"
      ]
     },
     "execution_count": 42,
     "metadata": {},
     "output_type": "execute_result"
    }
   ],
   "source": [
    "# Using the mean from np to find the mean of the column\n",
    "\n",
    "np.mean(arr, axis=0)"
   ]
  },
  {
   "cell_type": "code",
   "execution_count": 43,
   "id": "d71b55b2",
   "metadata": {},
   "outputs": [
    {
     "data": {
      "text/plain": [
       "array([[0.35659819, 0.5040861 , 0.14366628, 0.04156612, 0.88647782]])"
      ]
     },
     "execution_count": 43,
     "metadata": {},
     "output_type": "execute_result"
    }
   ],
   "source": [
    "#Lets slice the array\n",
    "\n",
    "arr[1:2:4]"
   ]
  },
  {
   "cell_type": "code",
   "execution_count": 44,
   "id": "70dd887e",
   "metadata": {},
   "outputs": [
    {
     "data": {
      "text/plain": [
       "array([[0.35659819, 0.00358787, 0.14366628, 0.04156612, 0.05988013],\n",
       "       [0.44237168, 0.39417514, 0.39368723, 0.34404763, 0.33665695],\n",
       "       [0.59142383, 0.5040861 , 0.54772841, 0.56668498, 0.7089386 ],\n",
       "       [0.92300072, 0.56792255, 0.83247751, 0.8228788 , 0.79712351],\n",
       "       [0.97816657, 0.83253282, 0.87678545, 0.88429035, 0.88647782]])"
      ]
     },
     "execution_count": 44,
     "metadata": {},
     "output_type": "execute_result"
    }
   ],
   "source": [
    "#using the sort function to sort by column\n",
    "\n",
    "np.sort(arr, axis=0)"
   ]
  },
  {
   "cell_type": "code",
   "execution_count": 45,
   "id": "a4ccf74f",
   "metadata": {},
   "outputs": [
    {
     "data": {
      "text/plain": [
       "array([[0.59142383, 0.00358787, 0.87678545, 0.34404763, 0.05988013],\n",
       "       [0.35659819, 0.5040861 , 0.14366628, 0.04156612, 0.88647782],\n",
       "       [0.97816657, 0.39417514, 0.39368723, 0.8228788 , 0.79712351],\n",
       "       [0.44237168, 0.83253282, 0.83247751, 0.88429035, 0.7089386 ],\n",
       "       [0.92300072, 0.56792255, 0.54772841, 0.56668498, 0.33665695]])"
      ]
     },
     "execution_count": 45,
     "metadata": {},
     "output_type": "execute_result"
    }
   ],
   "source": [
    "arr\n"
   ]
  },
  {
   "cell_type": "code",
   "execution_count": 46,
   "id": "131b44ca",
   "metadata": {},
   "outputs": [
    {
     "data": {
      "text/plain": [
       "array([[0.59142383, 0.00358787, 0.87678545, 0.34404763, 0.05988013],\n",
       "       [0.35659819, 0.5040861 , 0.14366628, 0.04156612, 0.88647782],\n",
       "       [0.97816657, 0.39417514, 0.39368723, 0.8228788 , 0.79712351]])"
      ]
     },
     "execution_count": 46,
     "metadata": {},
     "output_type": "execute_result"
    }
   ],
   "source": [
    "#Transpose the array\n",
    "\n",
    "arr[:3,:]"
   ]
  },
  {
   "cell_type": "code",
   "execution_count": 47,
   "id": "4df54445",
   "metadata": {},
   "outputs": [
    {
     "data": {
      "text/plain": [
       "array([[0.59142383, 0.35659819, 0.97816657],\n",
       "       [0.00358787, 0.5040861 , 0.39417514],\n",
       "       [0.87678545, 0.14366628, 0.39368723],\n",
       "       [0.34404763, 0.04156612, 0.8228788 ],\n",
       "       [0.05988013, 0.88647782, 0.79712351]])"
      ]
     },
     "execution_count": 47,
     "metadata": {},
     "output_type": "execute_result"
    }
   ],
   "source": [
    "arr[:3,:].T"
   ]
  },
  {
   "cell_type": "code",
   "execution_count": 48,
   "id": "0d0775dc",
   "metadata": {},
   "outputs": [
    {
     "data": {
      "text/plain": [
       "array([[0.59142383, 0.35659819, 0.97816657],\n",
       "       [0.00358787, 0.5040861 , 0.39417514],\n",
       "       [0.87678545, 0.14366628, 0.39368723],\n",
       "       [0.34404763, 0.04156612, 0.8228788 ],\n",
       "       [0.05988013, 0.88647782, 0.79712351]])"
      ]
     },
     "execution_count": 48,
     "metadata": {},
     "output_type": "execute_result"
    }
   ],
   "source": [
    "#Original function still works\n",
    "\n",
    "arr[:3,:].transpose()"
   ]
  },
  {
   "cell_type": "code",
   "execution_count": 49,
   "id": "007c371d",
   "metadata": {},
   "outputs": [
    {
     "data": {
      "text/plain": [
       "array([0.59142383, 0.00358787, 0.87678545, 0.34404763, 0.05988013,\n",
       "       0.35659819, 0.5040861 , 0.14366628, 0.04156612, 0.88647782,\n",
       "       0.97816657, 0.39417514, 0.39368723, 0.8228788 , 0.79712351])"
      ]
     },
     "execution_count": 49,
     "metadata": {},
     "output_type": "execute_result"
    }
   ],
   "source": [
    "#Flatten the array to make it to one set of values\n",
    "\n",
    "arr[:3,:].flatten()"
   ]
  },
  {
   "cell_type": "code",
   "execution_count": 51,
   "id": "44202f95",
   "metadata": {},
   "outputs": [
    {
     "data": {
      "text/plain": [
       "array([4, 5, 6, 7, 8])"
      ]
     },
     "execution_count": 51,
     "metadata": {},
     "output_type": "execute_result"
    }
   ],
   "source": [
    "# Append to the array\n",
    "\n",
    "arr = np.array([4, 5, 6, 7, 8])\n",
    "arr"
   ]
  },
  {
   "cell_type": "code",
   "execution_count": 52,
   "id": "996c6202",
   "metadata": {},
   "outputs": [
    {
     "data": {
      "text/plain": [
       "array([4, 5, 6, 7, 8, 8])"
      ]
     },
     "execution_count": 52,
     "metadata": {},
     "output_type": "execute_result"
    }
   ],
   "source": [
    "arr1 = np.append(arr,8)\n",
    "arr1"
   ]
  },
  {
   "cell_type": "code",
   "execution_count": 53,
   "id": "42b7e90a",
   "metadata": {},
   "outputs": [
    {
     "data": {
      "text/plain": [
       "array([1, 2, 3, 4, 5, 6, 7, 8])"
      ]
     },
     "execution_count": 53,
     "metadata": {},
     "output_type": "execute_result"
    }
   ],
   "source": [
    "arr2 = np.insert(arr, 0, [1,2,3])\n",
    "arr2"
   ]
  },
  {
   "cell_type": "code",
   "execution_count": 54,
   "id": "2892f2de",
   "metadata": {},
   "outputs": [
    {
     "data": {
      "text/plain": [
       "array([4, 1, 2, 3, 5, 6, 7, 8])"
      ]
     },
     "execution_count": 54,
     "metadata": {},
     "output_type": "execute_result"
    }
   ],
   "source": [
    "arr2 = np.insert(arr, 1, [1,2,3])\n",
    "arr2"
   ]
  },
  {
   "cell_type": "code",
   "execution_count": 55,
   "id": "96fd5a24",
   "metadata": {},
   "outputs": [
    {
     "data": {
      "text/plain": [
       "array([1, 2, 3, 5, 6, 7, 8])"
      ]
     },
     "execution_count": 55,
     "metadata": {},
     "output_type": "execute_result"
    }
   ],
   "source": [
    "#Delete function in np\n",
    "\n",
    "arr3 = np.delete(arr2, 0)\n",
    "arr3"
   ]
  },
  {
   "cell_type": "code",
   "execution_count": 58,
   "id": "a590bd52",
   "metadata": {},
   "outputs": [
    {
     "data": {
      "text/plain": [
       "array([4, 2, 3, 6, 7, 8])"
      ]
     },
     "execution_count": 58,
     "metadata": {},
     "output_type": "execute_result"
    }
   ],
   "source": [
    "arr3 = np.delete(arr2, [1,4])\n",
    "arr3"
   ]
  },
  {
   "cell_type": "code",
   "execution_count": 59,
   "id": "0c9cec8d",
   "metadata": {},
   "outputs": [
    {
     "data": {
      "text/plain": [
       "array([4, 2, 3, 6, 7, 8])"
      ]
     },
     "execution_count": 59,
     "metadata": {},
     "output_type": "execute_result"
    }
   ],
   "source": [
    "#Demonstrate copy funtion in np\n",
    "\n",
    "arrC = arr3.copy()\n",
    "arrC"
   ]
  },
  {
   "cell_type": "code",
   "execution_count": 61,
   "id": "caf414e5",
   "metadata": {},
   "outputs": [
    {
     "name": "stdout",
     "output_type": "stream",
     "text": [
      "[[1 2 3 4]\n",
      " [1 2 3 4]\n",
      " [5 6 7 8]\n",
      " [5 6 7 8]]\n"
     ]
    }
   ],
   "source": [
    "#Concatenate arrays\n",
    "\n",
    "arr1 = np.array([[1,2,3,4], [1,2,3,4]])\n",
    "arr2 = np.array([[5,6,7,8], [5,6,7,8]])\n",
    "arr_cat = np.concatenate((arr1,arr2), axis=0)\n",
    "print(arr_cat)"
   ]
  },
  {
   "cell_type": "code",
   "execution_count": 62,
   "id": "937d9373",
   "metadata": {},
   "outputs": [
    {
     "name": "stdout",
     "output_type": "stream",
     "text": [
      "[[1 2 3 4 5 6 7 8]\n",
      " [1 2 3 4 5 6 7 8]]\n"
     ]
    }
   ],
   "source": [
    "arr1 = np.array([[1,2,3,4], [1,2,3,4]])\n",
    "arr2 = np.array([[5,6,7,8], [5,6,7,8]])\n",
    "arr_cat = np.concatenate((arr1,arr2), axis=1)\n",
    "print(arr_cat)"
   ]
  },
  {
   "cell_type": "code",
   "execution_count": 64,
   "id": "d0bd67cb",
   "metadata": {},
   "outputs": [
    {
     "data": {
      "text/plain": [
       "array([1, 2, 3, 4, 5, 6, 7, 8, 9])"
      ]
     },
     "execution_count": 64,
     "metadata": {},
     "output_type": "execute_result"
    }
   ],
   "source": [
    "#Data exploration using the unique commmand\n",
    "arr = np.array([1,2,3,4,5,6,7,8,9,4,5,6,7,2,3])\n",
    "np.unique(arr)"
   ]
  },
  {
   "cell_type": "code",
   "execution_count": 65,
   "id": "e53aebf1",
   "metadata": {},
   "outputs": [
    {
     "name": "stdout",
     "output_type": "stream",
     "text": [
      "[1 2 3 4 5 6 7 8 9]\n",
      "[1 2 2 2 2 2 2 1 1]\n"
     ]
    }
   ],
   "source": [
    "#Returning the uniques values and the counts for each\n",
    "\n",
    "uniques, counts = np.unique(arr, return_counts=True)\n",
    "print(uniques)\n",
    "print(counts)"
   ]
  },
  {
   "cell_type": "code",
   "execution_count": 67,
   "id": "5c13582d",
   "metadata": {},
   "outputs": [
    {
     "name": "stdout",
     "output_type": "stream",
     "text": [
      "[3 4 5]\n",
      "[1 2 3 4 5 6 7]\n",
      "[1 2]\n",
      "[1 2 6 7]\n"
     ]
    }
   ],
   "source": [
    "# intersection, differentiation, neither\n",
    "\n",
    "arr1 = np.array([1,2,3,4,5])\n",
    "arr2 = np.array([3,4,5,6,7])\n",
    "print(np.intersect1d(arr1, arr2)) #have in common\n",
    "print(np.union1d(arr1, arr2)) #different uniques values\n",
    "print(np.setdiff1d(arr1, arr2)) #difference in array 1 and 2\n",
    "print(np.setxor1d(arr1, arr2)) # what is not in 1 but is in array2"
   ]
  },
  {
   "cell_type": "code",
   "execution_count": null,
   "id": "41bf12c4",
   "metadata": {},
   "outputs": [],
   "source": []
  }
 ],
 "metadata": {
  "kernelspec": {
   "display_name": "Python 3 (ipykernel)",
   "language": "python",
   "name": "python3"
  },
  "language_info": {
   "codemirror_mode": {
    "name": "ipython",
    "version": 3
   },
   "file_extension": ".py",
   "mimetype": "text/x-python",
   "name": "python",
   "nbconvert_exporter": "python",
   "pygments_lexer": "ipython3",
   "version": "3.9.7"
  }
 },
 "nbformat": 4,
 "nbformat_minor": 5
}
